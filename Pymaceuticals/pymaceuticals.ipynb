{
 "cells": [
  {
   "cell_type": "code",
   "execution_count": 264,
   "metadata": {},
   "outputs": [],
   "source": [
    "%matplotlib inline"
   ]
  },
  {
   "cell_type": "code",
   "execution_count": 265,
   "metadata": {},
   "outputs": [
    {
     "data": {
      "text/html": [
       "<div>\n",
       "<style scoped>\n",
       "    .dataframe tbody tr th:only-of-type {\n",
       "        vertical-align: middle;\n",
       "    }\n",
       "\n",
       "    .dataframe tbody tr th {\n",
       "        vertical-align: top;\n",
       "    }\n",
       "\n",
       "    .dataframe thead th {\n",
       "        text-align: right;\n",
       "    }\n",
       "</style>\n",
       "<table border=\"1\" class=\"dataframe\">\n",
       "  <thead>\n",
       "    <tr style=\"text-align: right;\">\n",
       "      <th></th>\n",
       "      <th>Mouse ID</th>\n",
       "      <th>Drug Regimen</th>\n",
       "      <th>Sex</th>\n",
       "      <th>Age_months</th>\n",
       "      <th>Weight (g)</th>\n",
       "      <th>Timepoint</th>\n",
       "      <th>Tumor Volume (mm3)</th>\n",
       "      <th>Metastatic Sites</th>\n",
       "    </tr>\n",
       "  </thead>\n",
       "  <tbody>\n",
       "    <tr>\n",
       "      <th>0</th>\n",
       "      <td>k403</td>\n",
       "      <td>Ramicane</td>\n",
       "      <td>Male</td>\n",
       "      <td>21</td>\n",
       "      <td>16</td>\n",
       "      <td>0</td>\n",
       "      <td>45.000000</td>\n",
       "      <td>0</td>\n",
       "    </tr>\n",
       "    <tr>\n",
       "      <th>1</th>\n",
       "      <td>k403</td>\n",
       "      <td>Ramicane</td>\n",
       "      <td>Male</td>\n",
       "      <td>21</td>\n",
       "      <td>16</td>\n",
       "      <td>5</td>\n",
       "      <td>38.825898</td>\n",
       "      <td>0</td>\n",
       "    </tr>\n",
       "    <tr>\n",
       "      <th>2</th>\n",
       "      <td>k403</td>\n",
       "      <td>Ramicane</td>\n",
       "      <td>Male</td>\n",
       "      <td>21</td>\n",
       "      <td>16</td>\n",
       "      <td>10</td>\n",
       "      <td>35.014271</td>\n",
       "      <td>1</td>\n",
       "    </tr>\n",
       "    <tr>\n",
       "      <th>3</th>\n",
       "      <td>k403</td>\n",
       "      <td>Ramicane</td>\n",
       "      <td>Male</td>\n",
       "      <td>21</td>\n",
       "      <td>16</td>\n",
       "      <td>15</td>\n",
       "      <td>34.223992</td>\n",
       "      <td>1</td>\n",
       "    </tr>\n",
       "    <tr>\n",
       "      <th>4</th>\n",
       "      <td>k403</td>\n",
       "      <td>Ramicane</td>\n",
       "      <td>Male</td>\n",
       "      <td>21</td>\n",
       "      <td>16</td>\n",
       "      <td>20</td>\n",
       "      <td>32.997729</td>\n",
       "      <td>1</td>\n",
       "    </tr>\n",
       "    <tr>\n",
       "      <th>...</th>\n",
       "      <td>...</td>\n",
       "      <td>...</td>\n",
       "      <td>...</td>\n",
       "      <td>...</td>\n",
       "      <td>...</td>\n",
       "      <td>...</td>\n",
       "      <td>...</td>\n",
       "      <td>...</td>\n",
       "    </tr>\n",
       "    <tr>\n",
       "      <th>1888</th>\n",
       "      <td>z969</td>\n",
       "      <td>Naftisol</td>\n",
       "      <td>Male</td>\n",
       "      <td>9</td>\n",
       "      <td>30</td>\n",
       "      <td>25</td>\n",
       "      <td>63.145652</td>\n",
       "      <td>2</td>\n",
       "    </tr>\n",
       "    <tr>\n",
       "      <th>1889</th>\n",
       "      <td>z969</td>\n",
       "      <td>Naftisol</td>\n",
       "      <td>Male</td>\n",
       "      <td>9</td>\n",
       "      <td>30</td>\n",
       "      <td>30</td>\n",
       "      <td>65.841013</td>\n",
       "      <td>3</td>\n",
       "    </tr>\n",
       "    <tr>\n",
       "      <th>1890</th>\n",
       "      <td>z969</td>\n",
       "      <td>Naftisol</td>\n",
       "      <td>Male</td>\n",
       "      <td>9</td>\n",
       "      <td>30</td>\n",
       "      <td>35</td>\n",
       "      <td>69.176246</td>\n",
       "      <td>4</td>\n",
       "    </tr>\n",
       "    <tr>\n",
       "      <th>1891</th>\n",
       "      <td>z969</td>\n",
       "      <td>Naftisol</td>\n",
       "      <td>Male</td>\n",
       "      <td>9</td>\n",
       "      <td>30</td>\n",
       "      <td>40</td>\n",
       "      <td>70.314904</td>\n",
       "      <td>4</td>\n",
       "    </tr>\n",
       "    <tr>\n",
       "      <th>1892</th>\n",
       "      <td>z969</td>\n",
       "      <td>Naftisol</td>\n",
       "      <td>Male</td>\n",
       "      <td>9</td>\n",
       "      <td>30</td>\n",
       "      <td>45</td>\n",
       "      <td>73.867845</td>\n",
       "      <td>4</td>\n",
       "    </tr>\n",
       "  </tbody>\n",
       "</table>\n",
       "<p>1893 rows × 8 columns</p>\n",
       "</div>"
      ],
      "text/plain": [
       "     Mouse ID Drug Regimen   Sex  Age_months  Weight (g)  Timepoint  \\\n",
       "0        k403     Ramicane  Male          21          16          0   \n",
       "1        k403     Ramicane  Male          21          16          5   \n",
       "2        k403     Ramicane  Male          21          16         10   \n",
       "3        k403     Ramicane  Male          21          16         15   \n",
       "4        k403     Ramicane  Male          21          16         20   \n",
       "...       ...          ...   ...         ...         ...        ...   \n",
       "1888     z969     Naftisol  Male           9          30         25   \n",
       "1889     z969     Naftisol  Male           9          30         30   \n",
       "1890     z969     Naftisol  Male           9          30         35   \n",
       "1891     z969     Naftisol  Male           9          30         40   \n",
       "1892     z969     Naftisol  Male           9          30         45   \n",
       "\n",
       "      Tumor Volume (mm3)  Metastatic Sites  \n",
       "0              45.000000                 0  \n",
       "1              38.825898                 0  \n",
       "2              35.014271                 1  \n",
       "3              34.223992                 1  \n",
       "4              32.997729                 1  \n",
       "...                  ...               ...  \n",
       "1888           63.145652                 2  \n",
       "1889           65.841013                 3  \n",
       "1890           69.176246                 4  \n",
       "1891           70.314904                 4  \n",
       "1892           73.867845                 4  \n",
       "\n",
       "[1893 rows x 8 columns]"
      ]
     },
     "execution_count": 265,
     "metadata": {},
     "output_type": "execute_result"
    }
   ],
   "source": [
    "# Dependencies and Setup\n",
    "import matplotlib.pyplot as plt\n",
    "import pandas as pd\n",
    "import scipy.stats as st\n",
    "import numpy as np\n",
    "\n",
    "# Study data files\n",
    "mouse_metadata_path = \"data/Mouse_metadata.csv\"\n",
    "study_results_path = \"data/Study_results.csv\"\n",
    "\n",
    "# Read the mouse data and the study results\n",
    "mouse_metadata = pd.read_csv(mouse_metadata_path)\n",
    "study_results = pd.read_csv(study_results_path)\n",
    "\n",
    "# Combine the data into a single dataset\n",
    "mouse_data_combined_df = pd.merge(mouse_metadata, study_results, how=\"left\", on=[\"Mouse ID\"])\n",
    "\n",
    "# Display the data table for preview\n",
    "mouse_data_combined_df"
   ]
  },
  {
   "cell_type": "code",
   "execution_count": 266,
   "metadata": {},
   "outputs": [
    {
     "data": {
      "text/plain": [
       "Mouse ID               249\n",
       "Drug Regimen            10\n",
       "Sex                      2\n",
       "Age_months              24\n",
       "Weight (g)              16\n",
       "Timepoint               10\n",
       "Tumor Volume (mm3)    1644\n",
       "Metastatic Sites         5\n",
       "dtype: int64"
      ]
     },
     "execution_count": 266,
     "metadata": {},
     "output_type": "execute_result"
    }
   ],
   "source": [
    "# Checking the number of mice.\n",
    "mouse_data_combined_df.nunique()"
   ]
  },
  {
   "cell_type": "code",
   "execution_count": 267,
   "metadata": {},
   "outputs": [
    {
     "data": {
      "text/plain": [
       "(1893, 8)"
      ]
     },
     "execution_count": 267,
     "metadata": {},
     "output_type": "execute_result"
    }
   ],
   "source": [
    "mouse_data_combined_df.shape"
   ]
  },
  {
   "cell_type": "code",
   "execution_count": 268,
   "metadata": {},
   "outputs": [
    {
     "data": {
      "text/html": [
       "<div>\n",
       "<style scoped>\n",
       "    .dataframe tbody tr th:only-of-type {\n",
       "        vertical-align: middle;\n",
       "    }\n",
       "\n",
       "    .dataframe tbody tr th {\n",
       "        vertical-align: top;\n",
       "    }\n",
       "\n",
       "    .dataframe thead th {\n",
       "        text-align: right;\n",
       "    }\n",
       "</style>\n",
       "<table border=\"1\" class=\"dataframe\">\n",
       "  <thead>\n",
       "    <tr style=\"text-align: right;\">\n",
       "      <th></th>\n",
       "      <th>Mouse ID</th>\n",
       "      <th>Drug Regimen</th>\n",
       "      <th>Sex</th>\n",
       "      <th>Age_months</th>\n",
       "      <th>Weight (g)</th>\n",
       "      <th>Timepoint</th>\n",
       "      <th>Tumor Volume (mm3)</th>\n",
       "      <th>Metastatic Sites</th>\n",
       "    </tr>\n",
       "  </thead>\n",
       "  <tbody>\n",
       "    <tr>\n",
       "      <th>909</th>\n",
       "      <td>g989</td>\n",
       "      <td>Propriva</td>\n",
       "      <td>Female</td>\n",
       "      <td>21</td>\n",
       "      <td>26</td>\n",
       "      <td>0</td>\n",
       "      <td>45.0</td>\n",
       "      <td>0</td>\n",
       "    </tr>\n",
       "  </tbody>\n",
       "</table>\n",
       "</div>"
      ],
      "text/plain": [
       "    Mouse ID Drug Regimen     Sex  Age_months  Weight (g)  Timepoint  \\\n",
       "909     g989     Propriva  Female          21          26          0   \n",
       "\n",
       "     Tumor Volume (mm3)  Metastatic Sites  \n",
       "909                45.0                 0  "
      ]
     },
     "execution_count": 268,
     "metadata": {},
     "output_type": "execute_result"
    }
   ],
   "source": [
    "# Get the duplicate mice by ID number that shows up for Mouse ID and Timepoint.\n",
    "duplicate_mice = mouse_data_combined_df[mouse_data_combined_df.duplicated()]\n",
    "duplicate_mice\n"
   ]
  },
  {
   "cell_type": "code",
   "execution_count": 269,
   "metadata": {},
   "outputs": [
    {
     "data": {
      "text/html": [
       "<div>\n",
       "<style scoped>\n",
       "    .dataframe tbody tr th:only-of-type {\n",
       "        vertical-align: middle;\n",
       "    }\n",
       "\n",
       "    .dataframe tbody tr th {\n",
       "        vertical-align: top;\n",
       "    }\n",
       "\n",
       "    .dataframe thead th {\n",
       "        text-align: right;\n",
       "    }\n",
       "</style>\n",
       "<table border=\"1\" class=\"dataframe\">\n",
       "  <thead>\n",
       "    <tr style=\"text-align: right;\">\n",
       "      <th></th>\n",
       "      <th>Mouse ID</th>\n",
       "      <th>Drug Regimen</th>\n",
       "      <th>Sex</th>\n",
       "      <th>Age_months</th>\n",
       "      <th>Weight (g)</th>\n",
       "      <th>Timepoint</th>\n",
       "      <th>Tumor Volume (mm3)</th>\n",
       "      <th>Metastatic Sites</th>\n",
       "    </tr>\n",
       "  </thead>\n",
       "  <tbody>\n",
       "    <tr>\n",
       "      <th>908</th>\n",
       "      <td>g989</td>\n",
       "      <td>Propriva</td>\n",
       "      <td>Female</td>\n",
       "      <td>21</td>\n",
       "      <td>26</td>\n",
       "      <td>0</td>\n",
       "      <td>45.000000</td>\n",
       "      <td>0</td>\n",
       "    </tr>\n",
       "    <tr>\n",
       "      <th>909</th>\n",
       "      <td>g989</td>\n",
       "      <td>Propriva</td>\n",
       "      <td>Female</td>\n",
       "      <td>21</td>\n",
       "      <td>26</td>\n",
       "      <td>0</td>\n",
       "      <td>45.000000</td>\n",
       "      <td>0</td>\n",
       "    </tr>\n",
       "    <tr>\n",
       "      <th>910</th>\n",
       "      <td>g989</td>\n",
       "      <td>Propriva</td>\n",
       "      <td>Female</td>\n",
       "      <td>21</td>\n",
       "      <td>26</td>\n",
       "      <td>5</td>\n",
       "      <td>48.786801</td>\n",
       "      <td>0</td>\n",
       "    </tr>\n",
       "    <tr>\n",
       "      <th>911</th>\n",
       "      <td>g989</td>\n",
       "      <td>Propriva</td>\n",
       "      <td>Female</td>\n",
       "      <td>21</td>\n",
       "      <td>26</td>\n",
       "      <td>5</td>\n",
       "      <td>47.570392</td>\n",
       "      <td>0</td>\n",
       "    </tr>\n",
       "    <tr>\n",
       "      <th>912</th>\n",
       "      <td>g989</td>\n",
       "      <td>Propriva</td>\n",
       "      <td>Female</td>\n",
       "      <td>21</td>\n",
       "      <td>26</td>\n",
       "      <td>10</td>\n",
       "      <td>51.745156</td>\n",
       "      <td>0</td>\n",
       "    </tr>\n",
       "    <tr>\n",
       "      <th>913</th>\n",
       "      <td>g989</td>\n",
       "      <td>Propriva</td>\n",
       "      <td>Female</td>\n",
       "      <td>21</td>\n",
       "      <td>26</td>\n",
       "      <td>10</td>\n",
       "      <td>49.880528</td>\n",
       "      <td>0</td>\n",
       "    </tr>\n",
       "    <tr>\n",
       "      <th>914</th>\n",
       "      <td>g989</td>\n",
       "      <td>Propriva</td>\n",
       "      <td>Female</td>\n",
       "      <td>21</td>\n",
       "      <td>26</td>\n",
       "      <td>15</td>\n",
       "      <td>51.325852</td>\n",
       "      <td>1</td>\n",
       "    </tr>\n",
       "    <tr>\n",
       "      <th>915</th>\n",
       "      <td>g989</td>\n",
       "      <td>Propriva</td>\n",
       "      <td>Female</td>\n",
       "      <td>21</td>\n",
       "      <td>26</td>\n",
       "      <td>15</td>\n",
       "      <td>53.442020</td>\n",
       "      <td>0</td>\n",
       "    </tr>\n",
       "    <tr>\n",
       "      <th>916</th>\n",
       "      <td>g989</td>\n",
       "      <td>Propriva</td>\n",
       "      <td>Female</td>\n",
       "      <td>21</td>\n",
       "      <td>26</td>\n",
       "      <td>20</td>\n",
       "      <td>55.326122</td>\n",
       "      <td>1</td>\n",
       "    </tr>\n",
       "    <tr>\n",
       "      <th>917</th>\n",
       "      <td>g989</td>\n",
       "      <td>Propriva</td>\n",
       "      <td>Female</td>\n",
       "      <td>21</td>\n",
       "      <td>26</td>\n",
       "      <td>20</td>\n",
       "      <td>54.657650</td>\n",
       "      <td>1</td>\n",
       "    </tr>\n",
       "    <tr>\n",
       "      <th>918</th>\n",
       "      <td>g989</td>\n",
       "      <td>Propriva</td>\n",
       "      <td>Female</td>\n",
       "      <td>21</td>\n",
       "      <td>26</td>\n",
       "      <td>25</td>\n",
       "      <td>56.045564</td>\n",
       "      <td>1</td>\n",
       "    </tr>\n",
       "    <tr>\n",
       "      <th>919</th>\n",
       "      <td>g989</td>\n",
       "      <td>Propriva</td>\n",
       "      <td>Female</td>\n",
       "      <td>21</td>\n",
       "      <td>26</td>\n",
       "      <td>30</td>\n",
       "      <td>59.082294</td>\n",
       "      <td>1</td>\n",
       "    </tr>\n",
       "    <tr>\n",
       "      <th>920</th>\n",
       "      <td>g989</td>\n",
       "      <td>Propriva</td>\n",
       "      <td>Female</td>\n",
       "      <td>21</td>\n",
       "      <td>26</td>\n",
       "      <td>35</td>\n",
       "      <td>62.570880</td>\n",
       "      <td>2</td>\n",
       "    </tr>\n",
       "  </tbody>\n",
       "</table>\n",
       "</div>"
      ],
      "text/plain": [
       "    Mouse ID Drug Regimen     Sex  Age_months  Weight (g)  Timepoint  \\\n",
       "908     g989     Propriva  Female          21          26          0   \n",
       "909     g989     Propriva  Female          21          26          0   \n",
       "910     g989     Propriva  Female          21          26          5   \n",
       "911     g989     Propriva  Female          21          26          5   \n",
       "912     g989     Propriva  Female          21          26         10   \n",
       "913     g989     Propriva  Female          21          26         10   \n",
       "914     g989     Propriva  Female          21          26         15   \n",
       "915     g989     Propriva  Female          21          26         15   \n",
       "916     g989     Propriva  Female          21          26         20   \n",
       "917     g989     Propriva  Female          21          26         20   \n",
       "918     g989     Propriva  Female          21          26         25   \n",
       "919     g989     Propriva  Female          21          26         30   \n",
       "920     g989     Propriva  Female          21          26         35   \n",
       "\n",
       "     Tumor Volume (mm3)  Metastatic Sites  \n",
       "908           45.000000                 0  \n",
       "909           45.000000                 0  \n",
       "910           48.786801                 0  \n",
       "911           47.570392                 0  \n",
       "912           51.745156                 0  \n",
       "913           49.880528                 0  \n",
       "914           51.325852                 1  \n",
       "915           53.442020                 0  \n",
       "916           55.326122                 1  \n",
       "917           54.657650                 1  \n",
       "918           56.045564                 1  \n",
       "919           59.082294                 1  \n",
       "920           62.570880                 2  "
      ]
     },
     "execution_count": 269,
     "metadata": {},
     "output_type": "execute_result"
    }
   ],
   "source": [
    "# Optional: Get all the data for the duplicate mouse ID. \n",
    "duplicate_df = mouse_data_combined_df[(mouse_data_combined_df[\"Mouse ID\"] == \"g989\")]\n",
    "duplicate_df"
   ]
  },
  {
   "cell_type": "code",
   "execution_count": 270,
   "metadata": {},
   "outputs": [
    {
     "data": {
      "text/html": [
       "<div>\n",
       "<style scoped>\n",
       "    .dataframe tbody tr th:only-of-type {\n",
       "        vertical-align: middle;\n",
       "    }\n",
       "\n",
       "    .dataframe tbody tr th {\n",
       "        vertical-align: top;\n",
       "    }\n",
       "\n",
       "    .dataframe thead th {\n",
       "        text-align: right;\n",
       "    }\n",
       "</style>\n",
       "<table border=\"1\" class=\"dataframe\">\n",
       "  <thead>\n",
       "    <tr style=\"text-align: right;\">\n",
       "      <th></th>\n",
       "      <th>Mouse ID</th>\n",
       "      <th>Drug Regimen</th>\n",
       "      <th>Sex</th>\n",
       "      <th>Age_months</th>\n",
       "      <th>Weight (g)</th>\n",
       "      <th>Timepoint</th>\n",
       "      <th>Tumor Volume (mm3)</th>\n",
       "      <th>Metastatic Sites</th>\n",
       "    </tr>\n",
       "  </thead>\n",
       "  <tbody>\n",
       "    <tr>\n",
       "      <th>0</th>\n",
       "      <td>k403</td>\n",
       "      <td>Ramicane</td>\n",
       "      <td>Male</td>\n",
       "      <td>21</td>\n",
       "      <td>16</td>\n",
       "      <td>0</td>\n",
       "      <td>45.000000</td>\n",
       "      <td>0</td>\n",
       "    </tr>\n",
       "    <tr>\n",
       "      <th>1</th>\n",
       "      <td>k403</td>\n",
       "      <td>Ramicane</td>\n",
       "      <td>Male</td>\n",
       "      <td>21</td>\n",
       "      <td>16</td>\n",
       "      <td>5</td>\n",
       "      <td>38.825898</td>\n",
       "      <td>0</td>\n",
       "    </tr>\n",
       "    <tr>\n",
       "      <th>2</th>\n",
       "      <td>k403</td>\n",
       "      <td>Ramicane</td>\n",
       "      <td>Male</td>\n",
       "      <td>21</td>\n",
       "      <td>16</td>\n",
       "      <td>10</td>\n",
       "      <td>35.014271</td>\n",
       "      <td>1</td>\n",
       "    </tr>\n",
       "    <tr>\n",
       "      <th>3</th>\n",
       "      <td>k403</td>\n",
       "      <td>Ramicane</td>\n",
       "      <td>Male</td>\n",
       "      <td>21</td>\n",
       "      <td>16</td>\n",
       "      <td>15</td>\n",
       "      <td>34.223992</td>\n",
       "      <td>1</td>\n",
       "    </tr>\n",
       "    <tr>\n",
       "      <th>4</th>\n",
       "      <td>k403</td>\n",
       "      <td>Ramicane</td>\n",
       "      <td>Male</td>\n",
       "      <td>21</td>\n",
       "      <td>16</td>\n",
       "      <td>20</td>\n",
       "      <td>32.997729</td>\n",
       "      <td>1</td>\n",
       "    </tr>\n",
       "    <tr>\n",
       "      <th>...</th>\n",
       "      <td>...</td>\n",
       "      <td>...</td>\n",
       "      <td>...</td>\n",
       "      <td>...</td>\n",
       "      <td>...</td>\n",
       "      <td>...</td>\n",
       "      <td>...</td>\n",
       "      <td>...</td>\n",
       "    </tr>\n",
       "    <tr>\n",
       "      <th>1888</th>\n",
       "      <td>z969</td>\n",
       "      <td>Naftisol</td>\n",
       "      <td>Male</td>\n",
       "      <td>9</td>\n",
       "      <td>30</td>\n",
       "      <td>25</td>\n",
       "      <td>63.145652</td>\n",
       "      <td>2</td>\n",
       "    </tr>\n",
       "    <tr>\n",
       "      <th>1889</th>\n",
       "      <td>z969</td>\n",
       "      <td>Naftisol</td>\n",
       "      <td>Male</td>\n",
       "      <td>9</td>\n",
       "      <td>30</td>\n",
       "      <td>30</td>\n",
       "      <td>65.841013</td>\n",
       "      <td>3</td>\n",
       "    </tr>\n",
       "    <tr>\n",
       "      <th>1890</th>\n",
       "      <td>z969</td>\n",
       "      <td>Naftisol</td>\n",
       "      <td>Male</td>\n",
       "      <td>9</td>\n",
       "      <td>30</td>\n",
       "      <td>35</td>\n",
       "      <td>69.176246</td>\n",
       "      <td>4</td>\n",
       "    </tr>\n",
       "    <tr>\n",
       "      <th>1891</th>\n",
       "      <td>z969</td>\n",
       "      <td>Naftisol</td>\n",
       "      <td>Male</td>\n",
       "      <td>9</td>\n",
       "      <td>30</td>\n",
       "      <td>40</td>\n",
       "      <td>70.314904</td>\n",
       "      <td>4</td>\n",
       "    </tr>\n",
       "    <tr>\n",
       "      <th>1892</th>\n",
       "      <td>z969</td>\n",
       "      <td>Naftisol</td>\n",
       "      <td>Male</td>\n",
       "      <td>9</td>\n",
       "      <td>30</td>\n",
       "      <td>45</td>\n",
       "      <td>73.867845</td>\n",
       "      <td>4</td>\n",
       "    </tr>\n",
       "  </tbody>\n",
       "</table>\n",
       "<p>1880 rows × 8 columns</p>\n",
       "</div>"
      ],
      "text/plain": [
       "     Mouse ID Drug Regimen   Sex  Age_months  Weight (g)  Timepoint  \\\n",
       "0        k403     Ramicane  Male          21          16          0   \n",
       "1        k403     Ramicane  Male          21          16          5   \n",
       "2        k403     Ramicane  Male          21          16         10   \n",
       "3        k403     Ramicane  Male          21          16         15   \n",
       "4        k403     Ramicane  Male          21          16         20   \n",
       "...       ...          ...   ...         ...         ...        ...   \n",
       "1888     z969     Naftisol  Male           9          30         25   \n",
       "1889     z969     Naftisol  Male           9          30         30   \n",
       "1890     z969     Naftisol  Male           9          30         35   \n",
       "1891     z969     Naftisol  Male           9          30         40   \n",
       "1892     z969     Naftisol  Male           9          30         45   \n",
       "\n",
       "      Tumor Volume (mm3)  Metastatic Sites  \n",
       "0              45.000000                 0  \n",
       "1              38.825898                 0  \n",
       "2              35.014271                 1  \n",
       "3              34.223992                 1  \n",
       "4              32.997729                 1  \n",
       "...                  ...               ...  \n",
       "1888           63.145652                 2  \n",
       "1889           65.841013                 3  \n",
       "1890           69.176246                 4  \n",
       "1891           70.314904                 4  \n",
       "1892           73.867845                 4  \n",
       "\n",
       "[1880 rows x 8 columns]"
      ]
     },
     "execution_count": 270,
     "metadata": {},
     "output_type": "execute_result"
    }
   ],
   "source": [
    "# Create a clean DataFrame by dropping the duplicate mouse by its ID.\n",
    "mouse_data_df = mouse_data_combined_df[mouse_data_combined_df[\"Mouse ID\"] != \"g989\"]\n",
    "mouse_data_df"
   ]
  },
  {
   "cell_type": "code",
   "execution_count": 271,
   "metadata": {},
   "outputs": [
    {
     "data": {
      "text/plain": [
       "Mouse ID               248\n",
       "Drug Regimen            10\n",
       "Sex                      2\n",
       "Age_months              24\n",
       "Weight (g)              16\n",
       "Timepoint               10\n",
       "Tumor Volume (mm3)    1633\n",
       "Metastatic Sites         5\n",
       "dtype: int64"
      ]
     },
     "execution_count": 271,
     "metadata": {},
     "output_type": "execute_result"
    }
   ],
   "source": [
    "# Checking the number of mice in the clean DataFrame.\n",
    "mouse_data_df.nunique()"
   ]
  },
  {
   "cell_type": "code",
   "execution_count": 272,
   "metadata": {},
   "outputs": [
    {
     "data": {
      "text/plain": [
       "(1880, 8)"
      ]
     },
     "execution_count": 272,
     "metadata": {},
     "output_type": "execute_result"
    }
   ],
   "source": [
    "mouse_data_df.shape"
   ]
  },
  {
   "cell_type": "code",
   "execution_count": 273,
   "metadata": {},
   "outputs": [
    {
     "data": {
      "text/plain": [
       "(1893, 8)"
      ]
     },
     "execution_count": 273,
     "metadata": {},
     "output_type": "execute_result"
    }
   ],
   "source": [
    "mouse_data_combined_df.shape"
   ]
  },
  {
   "cell_type": "code",
   "execution_count": 274,
   "metadata": {},
   "outputs": [
    {
     "name": "stdout",
     "output_type": "stream",
     "text": [
      "<class 'pandas.core.frame.DataFrame'>\n",
      "Int64Index: 1880 entries, 0 to 1892\n",
      "Data columns (total 8 columns):\n",
      " #   Column              Non-Null Count  Dtype  \n",
      "---  ------              --------------  -----  \n",
      " 0   Mouse ID            1880 non-null   object \n",
      " 1   Drug Regimen        1880 non-null   object \n",
      " 2   Sex                 1880 non-null   object \n",
      " 3   Age_months          1880 non-null   int64  \n",
      " 4   Weight (g)          1880 non-null   int64  \n",
      " 5   Timepoint           1880 non-null   int64  \n",
      " 6   Tumor Volume (mm3)  1880 non-null   float64\n",
      " 7   Metastatic Sites    1880 non-null   int64  \n",
      "dtypes: float64(1), int64(4), object(3)\n",
      "memory usage: 132.2+ KB\n"
     ]
    }
   ],
   "source": [
    "mouse_data_df.info()"
   ]
  },
  {
   "cell_type": "code",
   "execution_count": 275,
   "metadata": {},
   "outputs": [
    {
     "data": {
      "text/plain": [
       "Index(['Mouse ID', 'Drug Regimen', 'Sex', 'Age_months', 'Weight (g)',\n",
       "       'Timepoint', 'Tumor Volume (mm3)', 'Metastatic Sites'],\n",
       "      dtype='object')"
      ]
     },
     "execution_count": 275,
     "metadata": {},
     "output_type": "execute_result"
    }
   ],
   "source": [
    "mouse_data_df.columns"
   ]
  },
  {
   "cell_type": "code",
   "execution_count": 276,
   "metadata": {},
   "outputs": [],
   "source": [
    "# Generate a summary statistics table of mean, median, variance, standard deviation, and SEM of the tumor volume for each regimen\n",
    "# Use groupby and summary statistical methods to calculate the following properties of each drug regimen: \n",
    "# mean, median, variance, standard deviation, and SEM of the tumor volume. \n",
    "# Assemble the resulting series into a single summary dataframe."
   ]
  },
  {
   "cell_type": "code",
   "execution_count": 277,
   "metadata": {},
   "outputs": [],
   "source": [
    "# Calculate Tumor Volume Summary Statistics\n",
    "tumor_volume_mean = mouse_data_df.groupby(\"Drug Regimen\")[\"Tumor Volume (mm3)\"].mean()\n",
    "tumor_volume_median = mouse_data_df.groupby(\"Drug Regimen\")[\"Tumor Volume (mm3)\"].median()\n",
    "tumor_volume_variance = mouse_data_df.groupby(\"Drug Regimen\")[\"Tumor Volume (mm3)\"].var()\n",
    "tumor_volume_std_dev = mouse_data_df.groupby(\"Drug Regimen\")[\"Tumor Volume (mm3)\"].std()\n",
    "tumor_volume_sem = mouse_data_df.groupby(\"Drug Regimen\")[\"Tumor Volume (mm3)\"].sem()"
   ]
  },
  {
   "cell_type": "code",
   "execution_count": 278,
   "metadata": {},
   "outputs": [
    {
     "data": {
      "text/html": [
       "<div>\n",
       "<style scoped>\n",
       "    .dataframe tbody tr th:only-of-type {\n",
       "        vertical-align: middle;\n",
       "    }\n",
       "\n",
       "    .dataframe tbody tr th {\n",
       "        vertical-align: top;\n",
       "    }\n",
       "\n",
       "    .dataframe thead th {\n",
       "        text-align: right;\n",
       "    }\n",
       "</style>\n",
       "<table border=\"1\" class=\"dataframe\">\n",
       "  <thead>\n",
       "    <tr style=\"text-align: right;\">\n",
       "      <th></th>\n",
       "      <th>Tumor Volume Mean</th>\n",
       "      <th>Tumor Volume Median</th>\n",
       "      <th>Tumor Volume Variance</th>\n",
       "      <th>Tumor Volume Std. Dev</th>\n",
       "      <th>Tumor Volume SEM</th>\n",
       "    </tr>\n",
       "    <tr>\n",
       "      <th>Drug Regimen</th>\n",
       "      <th></th>\n",
       "      <th></th>\n",
       "      <th></th>\n",
       "      <th></th>\n",
       "      <th></th>\n",
       "    </tr>\n",
       "  </thead>\n",
       "  <tbody>\n",
       "    <tr>\n",
       "      <th>Capomulin</th>\n",
       "      <td>40.675741</td>\n",
       "      <td>41.557809</td>\n",
       "      <td>24.947764</td>\n",
       "      <td>4.994774</td>\n",
       "      <td>0.329346</td>\n",
       "    </tr>\n",
       "    <tr>\n",
       "      <th>Ceftamin</th>\n",
       "      <td>52.591172</td>\n",
       "      <td>51.776157</td>\n",
       "      <td>39.290177</td>\n",
       "      <td>6.268188</td>\n",
       "      <td>0.469821</td>\n",
       "    </tr>\n",
       "    <tr>\n",
       "      <th>Infubinol</th>\n",
       "      <td>52.884795</td>\n",
       "      <td>51.820584</td>\n",
       "      <td>43.128684</td>\n",
       "      <td>6.567243</td>\n",
       "      <td>0.492236</td>\n",
       "    </tr>\n",
       "    <tr>\n",
       "      <th>Ketapril</th>\n",
       "      <td>55.235638</td>\n",
       "      <td>53.698743</td>\n",
       "      <td>68.553577</td>\n",
       "      <td>8.279709</td>\n",
       "      <td>0.603860</td>\n",
       "    </tr>\n",
       "    <tr>\n",
       "      <th>Naftisol</th>\n",
       "      <td>54.331565</td>\n",
       "      <td>52.509285</td>\n",
       "      <td>66.173479</td>\n",
       "      <td>8.134708</td>\n",
       "      <td>0.596466</td>\n",
       "    </tr>\n",
       "    <tr>\n",
       "      <th>Placebo</th>\n",
       "      <td>54.033581</td>\n",
       "      <td>52.288934</td>\n",
       "      <td>61.168083</td>\n",
       "      <td>7.821003</td>\n",
       "      <td>0.581331</td>\n",
       "    </tr>\n",
       "    <tr>\n",
       "      <th>Propriva</th>\n",
       "      <td>52.320930</td>\n",
       "      <td>50.446266</td>\n",
       "      <td>43.852013</td>\n",
       "      <td>6.622085</td>\n",
       "      <td>0.544332</td>\n",
       "    </tr>\n",
       "    <tr>\n",
       "      <th>Ramicane</th>\n",
       "      <td>40.216745</td>\n",
       "      <td>40.673236</td>\n",
       "      <td>23.486704</td>\n",
       "      <td>4.846308</td>\n",
       "      <td>0.320955</td>\n",
       "    </tr>\n",
       "    <tr>\n",
       "      <th>Stelasyn</th>\n",
       "      <td>54.233149</td>\n",
       "      <td>52.431737</td>\n",
       "      <td>59.450562</td>\n",
       "      <td>7.710419</td>\n",
       "      <td>0.573111</td>\n",
       "    </tr>\n",
       "    <tr>\n",
       "      <th>Zoniferol</th>\n",
       "      <td>53.236507</td>\n",
       "      <td>51.818479</td>\n",
       "      <td>48.533355</td>\n",
       "      <td>6.966589</td>\n",
       "      <td>0.516398</td>\n",
       "    </tr>\n",
       "  </tbody>\n",
       "</table>\n",
       "</div>"
      ],
      "text/plain": [
       "              Tumor Volume Mean  Tumor Volume Median  Tumor Volume Variance  \\\n",
       "Drug Regimen                                                                  \n",
       "Capomulin             40.675741            41.557809              24.947764   \n",
       "Ceftamin              52.591172            51.776157              39.290177   \n",
       "Infubinol             52.884795            51.820584              43.128684   \n",
       "Ketapril              55.235638            53.698743              68.553577   \n",
       "Naftisol              54.331565            52.509285              66.173479   \n",
       "Placebo               54.033581            52.288934              61.168083   \n",
       "Propriva              52.320930            50.446266              43.852013   \n",
       "Ramicane              40.216745            40.673236              23.486704   \n",
       "Stelasyn              54.233149            52.431737              59.450562   \n",
       "Zoniferol             53.236507            51.818479              48.533355   \n",
       "\n",
       "              Tumor Volume Std. Dev  Tumor Volume SEM  \n",
       "Drug Regimen                                           \n",
       "Capomulin                  4.994774          0.329346  \n",
       "Ceftamin                   6.268188          0.469821  \n",
       "Infubinol                  6.567243          0.492236  \n",
       "Ketapril                   8.279709          0.603860  \n",
       "Naftisol                   8.134708          0.596466  \n",
       "Placebo                    7.821003          0.581331  \n",
       "Propriva                   6.622085          0.544332  \n",
       "Ramicane                   4.846308          0.320955  \n",
       "Stelasyn                   7.710419          0.573111  \n",
       "Zoniferol                  6.966589          0.516398  "
      ]
     },
     "execution_count": 278,
     "metadata": {},
     "output_type": "execute_result"
    }
   ],
   "source": [
    "## SUMMARY STATISTICS\n",
    "mouse_data_summary_df = pd.DataFrame({\"Tumor Volume Mean\": tumor_volume_mean, \"Tumor Volume Median\": tumor_volume_median,\n",
    "                                    \"Tumor Volume Variance\": tumor_volume_variance, \"Tumor Volume Std. Dev\": tumor_volume_std_dev,\n",
    "                                    \"Tumor Volume SEM\": tumor_volume_sem\n",
    "})\n",
    "mouse_data_summary_df"
   ]
  },
  {
   "cell_type": "code",
   "execution_count": 279,
   "metadata": {},
   "outputs": [],
   "source": [
    "## BAR and PIE CHARTS"
   ]
  },
  {
   "cell_type": "code",
   "execution_count": 280,
   "metadata": {},
   "outputs": [
    {
     "data": {
      "text/plain": [
       "Index(['Mouse ID', 'Drug Regimen', 'Sex', 'Age_months', 'Weight (g)',\n",
       "       'Timepoint', 'Tumor Volume (mm3)', 'Metastatic Sites'],\n",
       "      dtype='object')"
      ]
     },
     "execution_count": 280,
     "metadata": {},
     "output_type": "execute_result"
    }
   ],
   "source": [
    "mouse_data_df.columns"
   ]
  },
  {
   "cell_type": "code",
   "execution_count": 286,
   "metadata": {},
   "outputs": [
    {
     "data": {
      "application/vnd.jupyter.widget-view+json": {
       "model_id": "a70629a1948a44dd973d7d2cb61a2a51",
       "version_major": 2,
       "version_minor": 0
      },
      "image/png": "[encoded data removed]",
      "text/html": [
       "\n",
       "            <div style=\"display: inline-block;\">\n",
       "                <div class=\"jupyter-widgets widget-label\" style=\"text-align: center;\">\n",
       "                    Figure\n",
       "                </div>\n",
       "                <img src='data:image/png;base64,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' width=1080.0/>\n",
       "            </div>\n",
       "        "
      ],
      "text/plain": [
       "Canvas(toolbar=Toolbar(toolitems=[('Home', 'Reset original view', 'home', 'home'), ('Back', 'Back to previous …"
      ]
     },
     "metadata": {},
     "output_type": "display_data"
    }
   ],
   "source": [
    "# Generate a bar plot showing the total number of timepoints for all mice tested for each drug regimen using Pandas.\n",
    "%matplotlib widget\n",
    "# Get Drug Regimens\n",
    "drug_regimen_data = mouse_data_df[\"Drug Regimen\"].value_counts()\n",
    "\n",
    "figure1 = drug_regimen_data.plot(kind=\"bar\", facecolor=\"blue\", figsize=(15,8),\n",
    "                                title=\"Total Timepoints for All Mice Tested - By Drug Regimen\",\n",
    "                                xlabel=\"Drug Regimen\",\n",
    "                                ylabel=\"Timepoints\")\n",
    "\n",
    "# Configure x-ticks\n",
    "xticklabels = drug_regimen_data.index\n",
    "figure1.set_xticklabels(xticklabels, rotation=45, rotation_mode=\"anchor\", ha=\"right\", wrap=True)\n",
    "\n",
    "plt.show()"
   ]
  },
  {
   "cell_type": "code",
   "execution_count": 285,
   "metadata": {},
   "outputs": [
    {
     "data": {
      "application/vnd.jupyter.widget-view+json": {
       "model_id": "19b4d8be23a54719b863bc09bb5daedd",
       "version_major": 2,
       "version_minor": 0
      },
      "image/png": "[encoded data removed]",
      "text/html": [
       "\n",
       "            <div style=\"display: inline-block;\">\n",
       "                <div class=\"jupyter-widgets widget-label\" style=\"text-align: center;\">\n",
       "                    Figure\n",
       "                </div>\n",
       "                <img src='data:image/png;base64,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' width=432.0/>\n",
       "            </div>\n",
       "        "
      ],
      "text/plain": [
       "Canvas(toolbar=Toolbar(toolitems=[('Home', 'Reset original view', 'home', 'home'), ('Back', 'Back to previous …"
      ]
     },
     "metadata": {},
     "output_type": "display_data"
    }
   ],
   "source": [
    "# Generate a bar plot showing the total number of timepoints for all mice tested for each drug regimen using pyplot.\n",
    "%matplotlib widget\n",
    "drug_regimen_data = mouse_data_df[\"Drug Regimen\"].value_counts()\n",
    "plt.bar(drug_regimen_data.index.values, drug_regimen_data.values, color=\"blue\", align=\"center\")\n",
    "plt.title(\"Total Timepoints for All Mice Tested - By Drug Regimen\")\n",
    "plt.xlabel(\"Drug Regimen\")\n",
    "plt.xticks(rotation=\"vertical\")\n",
    "plt.ylabel(\"Timepoints\")\n",
    "plt.xlim(-0.75, len(drug_regimen_data)-0.25)\n",
    "plt.ylim(0, max(drug_regimen_data)+10)\n",
    "plt.show()"
   ]
  },
  {
   "cell_type": "code",
   "execution_count": 287,
   "metadata": {},
   "outputs": [
    {
     "data": {
      "text/plain": [
       "<AxesSubplot:ylabel='Sex'>"
      ]
     },
     "execution_count": 287,
     "metadata": {},
     "output_type": "execute_result"
    },
    {
     "data": {
      "application/vnd.jupyter.widget-view+json": {
       "model_id": "a9c171c4e788426aad14f399dc5132c8",
       "version_major": 2,
       "version_minor": 0
      },
      "image/png": "[encoded data removed]",
      "text/html": [
       "\n",
       "            <div style=\"display: inline-block;\">\n",
       "                <div class=\"jupyter-widgets widget-label\" style=\"text-align: center;\">\n",
       "                    Figure\n",
       "                </div>\n",
       "                <img src='data:image/png;base64,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' width=360.0/>\n",
       "            </div>\n",
       "        "
      ],
      "text/plain": [
       "Canvas(toolbar=Toolbar(toolitems=[('Home', 'Reset original view', 'home', 'home'), ('Back', 'Back to previous …"
      ]
     },
     "metadata": {},
     "output_type": "display_data"
    }
   ],
   "source": [
    "# Generate a pie plot showing the distribution of female versus male mice using pandas\n",
    "%matplotlib widget\n",
    "male_female = mouse_data_df[\"Sex\"].value_counts()\n",
    "male_female.plot(kind=\"pie\", figsize=(5,5), autopct=\"%1.1f%%\")"
   ]
  },
  {
   "cell_type": "code",
   "execution_count": 284,
   "metadata": {},
   "outputs": [
    {
     "data": {
      "text/plain": [
       "([<matplotlib.patches.Wedge at 0x253810af8b0>,\n",
       "  <matplotlib.patches.Wedge at 0x253810affd0>],\n",
       " [Text(-0.03308201408261547, 1.0995024239828841, 'Male'),\n",
       "  Text(0.033082014082615095, -1.0995024239828841, 'Female')],\n",
       " [Text(-0.01804473495415389, 0.5997285948997549, '51.0%'),\n",
       "  Text(0.018044734954153686, -0.5997285948997549, '49.0%')])"
      ]
     },
     "execution_count": 284,
     "metadata": {},
     "output_type": "execute_result"
    },
    {
     "data": {
      "application/vnd.jupyter.widget-view+json": {
       "model_id": "44c1cd0891cd481882b89e3fee7b2e39",
       "version_major": 2,
       "version_minor": 0
      },
      "image/png": "[encoded data removed]",
      "text/html": [
       "\n",
       "            <div style=\"display: inline-block;\">\n",
       "                <div class=\"jupyter-widgets widget-label\" style=\"text-align: center;\">\n",
       "                    Figure\n",
       "                </div>\n",
       "                <img src='data:image/png;base64,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' width=432.0/>\n",
       "            </div>\n",
       "        "
      ],
      "text/plain": [
       "Canvas(toolbar=Toolbar(toolitems=[('Home', 'Reset original view', 'home', 'home'), ('Back', 'Back to previous …"
      ]
     },
     "metadata": {},
     "output_type": "display_data"
    }
   ],
   "source": [
    "# Generate a pie plot showing the distribution of female versus male mice using pyplot\n",
    "%matplotlib widget\n",
    "male_female = mouse_data_df[\"Sex\"].value_counts()\n",
    "male_female_labels = [\"Male\", \"Female\"]\n",
    "plt.pie(male_female, labels = male_female_labels, autopct=\"%1.1f%%\")"
   ]
  },
  {
   "cell_type": "code",
   "execution_count": null,
   "metadata": {},
   "outputs": [],
   "source": [
    "## QUARTILES, OUTLIERS AND BOXPLOTS"
   ]
  }
 ],
 "metadata": {
  "kernelspec": {
   "display_name": "Python 3.9.12 ('base')",
   "language": "python",
   "name": "python3"
  },
  "language_info": {
   "codemirror_mode": {
    "name": "ipython",
    "version": 3
   },
   "file_extension": ".py",
   "mimetype": "text/x-python",
   "name": "python",
   "nbconvert_exporter": "python",
   "pygments_lexer": "ipython3",
   "version": "3.9.12"
  },
  "orig_nbformat": 4,
  "vscode": {
   "interpreter": {
    "hash": "740329b21a1252e1c253d583311b6d3f7744168cabc7e2151c4ba7a007513518"
   }
  }
 },
 "nbformat": 4,
 "nbformat_minor": 2
}
